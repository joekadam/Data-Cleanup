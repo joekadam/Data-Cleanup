{
  "nbformat": 4,
  "nbformat_minor": 0,
  "metadata": {
    "colab": {
      "name": "Welcome To Colaboratory",
      "provenance": [],
      "collapsed_sections": [],
      "include_colab_link": true
    },
    "kernelspec": {
      "display_name": "Python 3",
      "name": "python3"
    },
    "accelerator": "GPU"
  },
  "cells": [
    {
      "cell_type": "markdown",
      "metadata": {
        "id": "view-in-github",
        "colab_type": "text"
      },
      "source": [
        "<a href=\"https://colab.research.google.com/github/joekadam/Data-Cleanup/blob/master/Welcome_To_Colaboratory.ipynb\" target=\"_parent\"><img src=\"https://colab.research.google.com/assets/colab-badge.svg\" alt=\"Open In Colab\"/></a>"
      ]
    },
    {
      "cell_type": "code",
      "metadata": {
        "id": "O9lmdN_exseB",
        "colab_type": "code",
        "colab": {}
      },
      "source": [
        "# Python code for Julia Fractal \n",
        "from PIL import Image \n",
        "\n",
        "# driver function \n",
        "if __name__ == \"__main__\": \n",
        "\t\n",
        "\t# setting the width, height and zoom \n",
        "\t# of the image to be created \n",
        "\tw, h, zoom = 1920,1080,1\n",
        "\n",
        "\t# creating the new image in RGB mode \n",
        "\tbitmap = Image.new(\"RGB\", (w, h), \"white\") \n",
        "\n",
        "\t# Allocating the storage for the image and \n",
        "\t# loading the pixel data. \n",
        "\tpix = bitmap.load() \n",
        "\t\n",
        "\t# setting up the variables according to \n",
        "\t# the equation to create the fractal \n",
        "\tcX, cY = -0.7, 0.27015\n",
        "\tmoveX, moveY = 0.0, 0.0\n",
        "\tmaxIter = 255\n",
        "\n",
        "\tfor x in range(w): \n",
        "\t\tfor y in range(h): \n",
        "\t\t\tzx = 1.5*(x - w/2)/(0.5*zoom*w) + moveX \n",
        "\t\t\tzy = 1.0*(y - h/2)/(0.5*zoom*h) + moveY \n",
        "\t\t\ti = maxIter \n",
        "\t\t\twhile zx*zx + zy*zy < 4 and i > 1: \n",
        "\t\t\t\ttmp = zx*zx - zy*zy + cX \n",
        "\t\t\t\tzy,zx = 2.0*zx*zy + cY, tmp \n",
        "\t\t\t\ti -= 1\n",
        "\n",
        "\t\t\t# convert byte to RGB (3 bytes), kinda \n",
        "\t\t\t# magic to get nice colors \n",
        "\t\t\tpix[x,y] = (i << 21) + (i << 10) + i*8\n",
        "\n",
        "\t# to display the created fractal \n",
        "\tbitmap.show() \n",
        "\n"
      ],
      "execution_count": null,
      "outputs": []
    }
  ]
}