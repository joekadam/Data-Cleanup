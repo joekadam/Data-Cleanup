{
  "nbformat": 4,
  "nbformat_minor": 0,
  "metadata": {
    "colab": {
      "name": "Welcome To Colaboratory",
      "provenance": [],
      "collapsed_sections": [],
      "toc_visible": true,
      "include_colab_link": true
    },
    "kernelspec": {
      "display_name": "Python 3",
      "name": "python3"
    }
  },
  "cells": [
    {
      "cell_type": "markdown",
      "metadata": {
        "id": "view-in-github",
        "colab_type": "text"
      },
      "source": [
        "<a href=\"https://colab.research.google.com/github/joekadam/Data-Cleanup/blob/master/ucbirkley.ipynb\" target=\"_parent\"><img src=\"https://colab.research.google.com/assets/colab-badge.svg\" alt=\"Open In Colab\"/></a>"
      ]
    },
    {
      "cell_type": "code",
      "metadata": {
        "id": "7RL6dATfjXC-",
        "colab_type": "code",
        "colab": {}
      },
      "source": [
        "shakespeare = urlopen('http://composingprograms.com/shakespeare.txt')"
      ],
      "execution_count": 3,
      "outputs": []
    },
    {
      "cell_type": "code",
      "metadata": {
        "id": "Eq7ApA0EjZkq",
        "colab_type": "code",
        "colab": {}
      },
      "source": [
        "from urllib.request import urlopen"
      ],
      "execution_count": 1,
      "outputs": []
    },
    {
      "cell_type": "code",
      "metadata": {
        "id": "iR_mN6lajh8t",
        "colab_type": "code",
        "colab": {}
      },
      "source": [
        "words = set(shakespeare.read().decode().split())"
      ],
      "execution_count": 4,
      "outputs": []
    },
    {
      "cell_type": "code",
      "metadata": {
        "id": "Bo5-MQkPjqUN",
        "colab_type": "code",
        "colab": {
          "base_uri": "https://localhost:8080/",
          "height": 35
        },
        "outputId": "80678543-d8d9-4cb7-db37-378a42058c91"
      },
      "source": [
        ">>> {w for w in words if len(w) == 6 and w[::-1] in words}\n",
        "{'redder', 'drawer', 'reward', 'diaper', 'repaid'}"
      ],
      "execution_count": 5,
      "outputs": [
        {
          "output_type": "execute_result",
          "data": {
            "text/plain": [
              "{'diaper', 'drawer', 'redder', 'repaid', 'reward'}"
            ]
          },
          "metadata": {
            "tags": []
          },
          "execution_count": 5
        }
      ]
    },
    {
      "cell_type": "code",
      "metadata": {
        "id": "WmI5443djxF4",
        "colab_type": "code",
        "colab": {
          "base_uri": "https://localhost:8080/",
          "height": 35
        },
        "outputId": "89aeb6ee-f223-4b8f-b414-24b11f0876d8"
      },
      "source": [
        "\n",
        ">>> 1/2 + 1/4 + 1/8 + 1/16 + 1/32 + 1/64 + 1/128"
      ],
      "execution_count": 8,
      "outputs": [
        {
          "output_type": "execute_result",
          "data": {
            "text/plain": [
              "0.9921875"
            ]
          },
          "metadata": {
            "tags": []
          },
          "execution_count": 8
        }
      ]
    },
    {
      "cell_type": "code",
      "metadata": {
        "id": "SO5LsA1jkMh1",
        "colab_type": "code",
        "colab": {
          "base_uri": "https://localhost:8080/",
          "height": 35
        },
        "outputId": "ef0fe301-6f02-41d9-ee44-95755a19bb41"
      },
      "source": [
        ">>> -1 - -1"
      ],
      "execution_count": 10,
      "outputs": [
        {
          "output_type": "execute_result",
          "data": {
            "text/plain": [
              "0"
            ]
          },
          "metadata": {
            "tags": []
          },
          "execution_count": 10
        }
      ]
    },
    {
      "cell_type": "code",
      "metadata": {
        "id": "3dvkaL1BkRr_",
        "colab_type": "code",
        "colab": {
          "base_uri": "https://localhost:8080/",
          "height": 35
        },
        "outputId": "c3584e38-8c28-4a1c-d235-1edf2038cbe1"
      },
      "source": [
        "max(7.5, 9.5)"
      ],
      "execution_count": 11,
      "outputs": [
        {
          "output_type": "execute_result",
          "data": {
            "text/plain": [
              "9.5"
            ]
          },
          "metadata": {
            "tags": []
          },
          "execution_count": 11
        }
      ]
    },
    {
      "cell_type": "code",
      "metadata": {
        "id": "HN6hRaXmkaQL",
        "colab_type": "code",
        "colab": {
          "base_uri": "https://localhost:8080/",
          "height": 35
        },
        "outputId": "7049da94-ea79-49bd-b14e-c5fda9311f5b"
      },
      "source": [
        " pow(2, 100)"
      ],
      "execution_count": 14,
      "outputs": [
        {
          "output_type": "execute_result",
          "data": {
            "text/plain": [
              "1267650600228229401496703205376"
            ]
          },
          "metadata": {
            "tags": []
          },
          "execution_count": 14
        }
      ]
    },
    {
      "cell_type": "code",
      "metadata": {
        "id": "60UiStbWkhdt",
        "colab_type": "code",
        "colab": {
          "base_uri": "https://localhost:8080/",
          "height": 35
        },
        "outputId": "a6929029-2273-4cec-df15-78163cac35fb"
      },
      "source": [
        "pow(100, 2)"
      ],
      "execution_count": 15,
      "outputs": [
        {
          "output_type": "execute_result",
          "data": {
            "text/plain": [
              "10000"
            ]
          },
          "metadata": {
            "tags": []
          },
          "execution_count": 15
        }
      ]
    },
    {
      "cell_type": "code",
      "metadata": {
        "id": "ZAPqtvTQkmCq",
        "colab_type": "code",
        "colab": {
          "base_uri": "https://localhost:8080/",
          "height": 35
        },
        "outputId": "d361fdad-7cef-4704-e9ac-d74997036427"
      },
      "source": [
        "max(min(1, -2), min(pow(3, 5), -4))"
      ],
      "execution_count": 16,
      "outputs": [
        {
          "output_type": "execute_result",
          "data": {
            "text/plain": [
              "-2"
            ]
          },
          "metadata": {
            "tags": []
          },
          "execution_count": 16
        }
      ]
    },
    {
      "cell_type": "code",
      "metadata": {
        "id": "sFL9mVPokq8x",
        "colab_type": "code",
        "colab": {}
      },
      "source": [
        ">>> from math import sqrt\n",
        ">>> sqrt(256)\n",
        "16.0\n",
        "and the operator module provides access to functions corresponding to infix operators:\n",
        "\n",
        ">>> from operator import add, sub, mul\n",
        ">>> add(14, 28)\n",
        "42\n",
        ">>> sub(100, mul(7, add(8, 4)))\n",
        "16"
      ],
      "execution_count": null,
      "outputs": []
    },
    {
      "cell_type": "code",
      "metadata": {
        "id": "Q3c513FakxbP",
        "colab_type": "code",
        "colab": {}
      },
      "source": [
        ">>> radius = 10\n",
        ">>> radius\n",
        "10\n",
        ">>> 2 * radius\n",
        "20\n",
        "Names are also bound via import statements.\n",
        "\n",
        ">>> from math import pi\n",
        ">>> pi * 71 / 223\n",
        "1.0002380197528042"
      ],
      "execution_count": null,
      "outputs": []
    },
    {
      "cell_type": "code",
      "metadata": {
        "id": "LIT8y1w-k2qj",
        "colab_type": "code",
        "colab": {
          "base_uri": "https://localhost:8080/",
          "height": 35
        },
        "outputId": "49482192-6ae9-4660-9b35-03af0eb1af62"
      },
      "source": [
        ">>> f = max\n",
        ">>> f(2, 3, 4)"
      ],
      "execution_count": 19,
      "outputs": [
        {
          "output_type": "execute_result",
          "data": {
            "text/plain": [
              "4"
            ]
          },
          "metadata": {
            "tags": []
          },
          "execution_count": 19
        }
      ]
    },
    {
      "cell_type": "code",
      "metadata": {
        "id": "Iet8uIollEh3",
        "colab_type": "code",
        "colab": {}
      },
      "source": [
        ">>> area, circumference = pi * radius * radius, 2 * pi * radius\n",
        ">>> area\n",
        "314.1592653589793\n",
        ">>> circumference"
      ],
      "execution_count": null,
      "outputs": []
    },
    {
      "cell_type": "code",
      "metadata": {
        "id": "qPz8DklslMUu",
        "colab_type": "code",
        "colab": {
          "base_uri": "https://localhost:8080/",
          "height": 171
        },
        "outputId": "bf39295f-398b-4b15-85eb-2c581a469684"
      },
      "source": [
        "sub(pow(2, add(1, 10)), pow(2, 5))"
      ],
      "execution_count": 20,
      "outputs": [
        {
          "output_type": "error",
          "ename": "NameError",
          "evalue": "ignored",
          "traceback": [
            "\u001b[0;31m---------------------------------------------------------------------------\u001b[0m",
            "\u001b[0;31mNameError\u001b[0m                                 Traceback (most recent call last)",
            "\u001b[0;32m<ipython-input-20-35db8f6bfebc>\u001b[0m in \u001b[0;36m<module>\u001b[0;34m()\u001b[0m\n\u001b[0;32m----> 1\u001b[0;31m \u001b[0msub\u001b[0m\u001b[0;34m(\u001b[0m\u001b[0mpow\u001b[0m\u001b[0;34m(\u001b[0m\u001b[0;36m2\u001b[0m\u001b[0;34m,\u001b[0m \u001b[0madd\u001b[0m\u001b[0;34m(\u001b[0m\u001b[0;36m1\u001b[0m\u001b[0;34m,\u001b[0m \u001b[0;36m10\u001b[0m\u001b[0;34m)\u001b[0m\u001b[0;34m)\u001b[0m\u001b[0;34m,\u001b[0m \u001b[0mpow\u001b[0m\u001b[0;34m(\u001b[0m\u001b[0;36m2\u001b[0m\u001b[0;34m,\u001b[0m \u001b[0;36m5\u001b[0m\u001b[0;34m)\u001b[0m\u001b[0;34m)\u001b[0m\u001b[0;34m\u001b[0m\u001b[0;34m\u001b[0m\u001b[0m\n\u001b[0m",
            "\u001b[0;31mNameError\u001b[0m: name 'sub' is not defined"
          ]
        }
      ]
    },
    {
      "cell_type": "code",
      "metadata": {
        "id": "GmTCXOGGlaGt",
        "colab_type": "code",
        "colab": {
          "base_uri": "https://localhost:8080/",
          "height": 171
        },
        "outputId": "28e49089-777f-4aad-d4bd-ceca1c396f5f"
      },
      "source": [
        "add(x, 1)"
      ],
      "execution_count": 21,
      "outputs": [
        {
          "output_type": "error",
          "ename": "NameError",
          "evalue": "ignored",
          "traceback": [
            "\u001b[0;31m---------------------------------------------------------------------------\u001b[0m",
            "\u001b[0;31mNameError\u001b[0m                                 Traceback (most recent call last)",
            "\u001b[0;32m<ipython-input-21-be2f10bc94ab>\u001b[0m in \u001b[0;36m<module>\u001b[0;34m()\u001b[0m\n\u001b[0;32m----> 1\u001b[0;31m \u001b[0madd\u001b[0m\u001b[0;34m(\u001b[0m\u001b[0mx\u001b[0m\u001b[0;34m,\u001b[0m \u001b[0;36m1\u001b[0m\u001b[0;34m)\u001b[0m\u001b[0;34m\u001b[0m\u001b[0;34m\u001b[0m\u001b[0m\n\u001b[0m",
            "\u001b[0;31mNameError\u001b[0m: name 'add' is not defined"
          ]
        }
      ]
    },
    {
      "cell_type": "code",
      "metadata": {
        "id": "uNUOW3y6mOTf",
        "colab_type": "code",
        "colab": {}
      },
      "source": [
        "def fib(n):\n",
        "\t    \"\"\"Compute the nth Fibonacci number, for n >= 2.\"\"\"\n",
        "\t    pred, curr = 0, 1   # Fibonacci numbers 1 and 2\n",
        "\t    k = 2               # Which Fib number is curr?\n",
        "\t    while k < n:\n",
        "\t        pred, curr = curr, pred + curr\n",
        "\t        k = k + 1\n",
        "\t    return curr\n",
        "result = fib(8)"
      ],
      "execution_count": 24,
      "outputs": []
    },
    {
      "cell_type": "code",
      "metadata": {
        "id": "W7nwdTJgnyfN",
        "colab_type": "code",
        "colab": {
          "base_uri": "https://localhost:8080/",
          "height": 143
        },
        "outputId": "86d59c86-7e1d-499a-dd20-bd412c75d440"
      },
      "source": [
        "def cascade(n):\n",
        "        \"\"\"Print a cascade of prefixes of n.\"\"\"\n",
        "        if n < 10:\n",
        "            print(n)\n",
        "        else:\n",
        "            print(n)\n",
        "            cascade(n//10)\n",
        "            print(n)\n",
        "cascade(2020)"
      ],
      "execution_count": 33,
      "outputs": [
        {
          "output_type": "stream",
          "text": [
            "2020\n",
            "202\n",
            "20\n",
            "2\n",
            "20\n",
            "202\n",
            "2020\n"
          ],
          "name": "stdout"
        }
      ]
    },
    {
      "cell_type": "markdown",
      "metadata": {
        "id": "vzsGYiY9tBQz",
        "colab_type": "text"
      },
      "source": [
        "## fib(34) runs 11,405,773 recursive calls"
      ]
    },
    {
      "cell_type": "code",
      "metadata": {
        "id": "cu6GuIc1oiP_",
        "colab_type": "code",
        "colab": {
          "base_uri": "https://localhost:8080/",
          "height": 35
        },
        "outputId": "1c96b131-2441-4717-d2d4-de20534bbb4d"
      },
      "source": [
        "def fib(n):\n",
        "\t    if n == 1:\n",
        "\t        return 1\n",
        "\t    if n == 2:\n",
        "\t        return 2\n",
        "\t    else:\n",
        "\t        return fib(n-1) + fib(n-2)\t\n",
        "print(fib(34))"
      ],
      "execution_count": 63,
      "outputs": [
        {
          "output_type": "stream",
          "text": [
            "9227465\n"
          ],
          "name": "stdout"
        }
      ]
    },
    {
      "cell_type": "markdown",
      "metadata": {
        "id": "QrFBa__Ftsz5",
        "colab_type": "text"
      },
      "source": [
        "## fib_dictionary(34) runs only 65 recursive calls!"
      ]
    },
    {
      "cell_type": "code",
      "metadata": {
        "id": "r4Au1Ik8p57V",
        "colab_type": "code",
        "colab": {
          "base_uri": "https://localhost:8080/",
          "height": 35
        },
        "outputId": "e05e12ab-4808-4823-9f82-2f78ef6ccf7f"
      },
      "source": [
        "\n",
        "def fib_dictionary(n, d):\n",
        "  if n in d:\n",
        "    return d[n]\n",
        "  else:\n",
        "    ans = fib_dictionary(n-1, d) + fib_dictionary(n-2, d)\n",
        "    d[n] = ans\n",
        "    return ans\n",
        "d = {1:1, 2:2}\n",
        "print(fib_dictionary(34, d))"
      ],
      "execution_count": 64,
      "outputs": [
        {
          "output_type": "stream",
          "text": [
            "9227465\n"
          ],
          "name": "stdout"
        }
      ]
    }
  ]
}